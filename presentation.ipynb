{
 "cells": [
  {
   "cell_type": "markdown",
   "metadata": {},
   "source": [
    "이 노트는 Python 3.7로 작성됐습니다."
   ]
  },
  {
   "cell_type": "markdown",
   "metadata": {},
   "source": [
    "# What does *Pythonic* mean?.?"
   ]
  },
  {
   "cell_type": "markdown",
   "metadata": {},
   "source": [
    "Python 입문하신 분들은 누구나 해봤을 질문\n",
    "\n",
    "왜 collection.len()이 아니고 len(collection)이지?.?\n",
    "\n",
    "*Pythonic* 한거는 뭐지?.?"
   ]
  },
  {
   "cell_type": "markdown",
   "metadata": {},
   "source": [
    "# 1. Special methods"
   ]
  },
  {
   "cell_type": "code",
   "execution_count": 1,
   "metadata": {},
   "outputs": [
    {
     "data": {
      "text/plain": [
       "3"
      ]
     },
     "execution_count": 1,
     "metadata": {},
     "output_type": "execute_result"
    }
   ],
   "source": [
    "arr = [1, 2, 3]\n",
    "len(arr)"
   ]
  },
  {
   "cell_type": "markdown",
   "metadata": {},
   "source": [
    "다들 위 코드가 돌아간다는 것은 알지만, 왜 어떻게 돌아가는거지?.?\n",
    "\n",
    "\n",
    "**len**은 Python에서 취급하는 특수 함수\n",
    "\n",
    "구체적인 예시:"
   ]
  },
  {
   "cell_type": "code",
   "execution_count": 2,
   "metadata": {},
   "outputs": [
    {
     "name": "stdout",
     "output_type": "stream",
     "text": [
      "52\n"
     ]
    }
   ],
   "source": [
    "import collections\n",
    "Card = collections.namedtuple('Card', ['rank', 'suit'])\n",
    "\n",
    "class FrenchDeck:\n",
    "    ranks = [str(n) for n in range(2, 11)] + list('JQKA')\n",
    "    suits = 'spades diamonds clubs hearts'.split()\n",
    "    \n",
    "    def __init__(self):\n",
    "        self._cards = [Card(rank, suit) for suit in self.suits\n",
    "                       for rank in self.ranks]\n",
    "    def __len__(self):\n",
    "        return len(self._cards)\n",
    "    \n",
    "    def __getitem__(self, position):\n",
    "        return self._cards[position]\n",
    "    \n",
    "deck = FrenchDeck()\n",
    "print(len(deck))"
   ]
  },
  {
   "cell_type": "markdown",
   "metadata": {},
   "source": [
    "**len** 함수가 실행하는 것은 Python 내부의 \\_\\_len\\_\\_함수\n",
    "\n",
    "혹시 직접 만든 함수들도 비슷한 방식으로 호출할 수 있을까?.?"
   ]
  },
  {
   "cell_type": "code",
   "execution_count": 3,
   "metadata": {
    "scrolled": true
   },
   "outputs": [
    {
     "name": "stdout",
     "output_type": "stream",
     "text": [
      "4\n",
      "\n",
      "Traceback (most recent call last):\n",
      "  File \"<ipython-input-3-7aaf425ee2e8>\", line 16, in <module>\n",
      "    testtheory(test)# 과연 될까?.?\n",
      "NameError: name 'testtheory' is not defined\n",
      "\n"
     ]
    }
   ],
   "source": [
    "import traceback\n",
    "\n",
    "class TheoryTest:\n",
    "    def __init__(self):\n",
    "        self.items = [1, 2, 3, 4]\n",
    "        \n",
    "    def __len__(self):\n",
    "        return len(self.items)\n",
    "    \n",
    "    def __testtheory__(self):\n",
    "        print(\"Tested?.?\")\n",
    "    \n",
    "test = TheoryTest()\n",
    "print(len(test))\n",
    "try:\n",
    "    testtheory(test)# 과연 될까?.?\n",
    "except Exception as e:\n",
    "    tb = traceback.format_exc()# 오류 나지만 돌아가게 하기 위한 부분\n",
    "    print(\"\\n\" + tb)"
   ]
  },
  {
   "cell_type": "markdown",
   "metadata": {},
   "source": [
    "역시는 역시 안된다..\n",
    "\n",
    "하지만..?"
   ]
  },
  {
   "cell_type": "code",
   "execution_count": 4,
   "metadata": {},
   "outputs": [
    {
     "name": "stdout",
     "output_type": "stream",
     "text": [
      "Tested?.?\n"
     ]
    }
   ],
   "source": [
    "def testtheory(test):\n",
    "    test.__testtheory__()\n",
    "\n",
    "# 된다는 것을 보여주기 위한 예시일 뿐\n",
    "# 하지는 말자...\n",
    "testtheory(test)"
   ]
  },
  {
   "cell_type": "markdown",
   "metadata": {},
   "source": [
    "### 특수 함수 (Special Method)는 어떻게 사용되는가?.?\n",
    "\n",
    "Python interpreter에서 예약된 함수들을 활용해서, object model 내부적으로 구현된 함수를 실행하는것.\n",
    "\n",
    "기본 데이터형들에 대해서는 Python에서 조금 더 최적화된 방법으로 값을 뽑아내는 경우가 있기도 하고, 직접 호출하는것은 지양 하는것이 일반적이다.\n",
    "\n",
    "**결론**: 편하게 만들어준 것은 편하게 쓰자\n",
    "\n",
    "<br />\n",
    "\n",
    "Python 지지자들이 내세우는 주장 중 하나\n",
    "\n",
    "**Python의 가장 큰 장점중 하나는 일관성이다.**"
   ]
  },
  {
   "cell_type": "code",
   "execution_count": 5,
   "metadata": {},
   "outputs": [
    {
     "name": "stdout",
     "output_type": "stream",
     "text": [
      "5\n",
      "5\n"
     ]
    }
   ],
   "source": [
    "arr = [1, 2, 3, 4, 5]\n",
    "print(arr.__len__()) # 하지말고\n",
    "print(len(arr)) # 굿"
   ]
  },
  {
   "cell_type": "markdown",
   "metadata": {},
   "source": [
    "특수 함수들은 한정되어 있고, 편의를 위해서 만들어졌다는 것이 일반적인 시선이다. 그 동안 Python에서 *어떻게 구현된거지?.?* 했던 마법 같은 기능들은 배후에 특수 함수가 있을 가능성이 높다.\n",
    "\n",
    "일부 마법을 파헤치기 위해, 몇가지 예시를 짚고 넘어가 보자"
   ]
  },
  {
   "cell_type": "markdown",
   "metadata": {},
   "source": [
    "#### 1. repr 함수, str 함수\n",
    "\n",
    "```pythoh\n",
    ">>> a = Vector(3, 5)\n",
    ">>> print(a)\n",
    "Vector(3, 5)\n",
    "```\n",
    "\n",
    "이런식으로 프린트를 했을때 객체 형태로 보기에 이쁘게 나오는 것을 어딘가에서 본적 있을거다."
   ]
  },
  {
   "cell_type": "code",
   "execution_count": 6,
   "metadata": {},
   "outputs": [
    {
     "name": "stdout",
     "output_type": "stream",
     "text": [
      "Vector(3, 5)\n",
      "(x=3 y=5)\n"
     ]
    }
   ],
   "source": [
    "class Vector:\n",
    "    def __init__(self, x=0, y=0):\n",
    "        self.x = x\n",
    "        self.y = y\n",
    "        \n",
    "    def __repr__(self): # representation의 약자인것 같다\n",
    "        return 'Vector(%r, %r)' % (self.x, self.y)\n",
    "    \n",
    "    def __str__(self): # java의 toString과 비슷\n",
    "        return f\"(x={self.x} y={self.y})\"\n",
    "x = Vector(3, 5)\n",
    "print(repr(x))\n",
    "print(x)"
   ]
  },
  {
   "cell_type": "markdown",
   "metadata": {},
   "source": [
    "**repr** 특수 함수를 통해서 구현돼 있었던 거였다!.!\n",
    "\n",
    "repr 함수는 일번적으로 공식적인 객체를 나타내는 수단으로 사용된다 (보통 그 객체를 생성하기 위해 사용된 생성자문)\n",
    "\n",
    "디버깅 용도로 주로 사용\n",
    "\n",
    "**str** 함수는 실제 유저에게 보여줄 목적으로 생성하는 문자열 형태를 만들기 위해 구현\n"
   ]
  },
  {
   "cell_type": "markdown",
   "metadata": {},
   "source": [
    "#### 2. getitem 함수\n",
    "\n",
    "리스트형 객체에서 사용"
   ]
  },
  {
   "cell_type": "code",
   "execution_count": 7,
   "metadata": {},
   "outputs": [
    {
     "name": "stdout",
     "output_type": "stream",
     "text": [
      "Card(rank='4', suit='diamonds')\n",
      "Card(rank='J', suit='spades')\n",
      "Card(rank='2', suit='hearts')\n",
      "Card(rank='8', suit='hearts')\n",
      "Card(rank='6', suit='spades')\n",
      "Card(rank='Q', suit='hearts')\n",
      "Card(rank='J', suit='diamonds')\n",
      "Card(rank='8', suit='clubs')\n",
      "Card(rank='2', suit='clubs')\n",
      "Card(rank='4', suit='spades')\n"
     ]
    }
   ],
   "source": [
    "import collections\n",
    "import random\n",
    "Card = collections.namedtuple('Card', ['rank', 'suit'])\n",
    "\n",
    "class FrenchDeck:\n",
    "    ranks = [str(n) for n in range(2, 11)] + list('JQKA')\n",
    "    suits = 'spades diamonds clubs hearts'.split()\n",
    "    \n",
    "    def __init__(self):\n",
    "        self._cards = [Card(rank, suit) for suit in self.suits\n",
    "                       for rank in self.ranks]\n",
    "    def __len__(self):\n",
    "        return len(self._cards)\n",
    "    \n",
    "    def __getitem__(self, position):\n",
    "        return self._cards[position]\n",
    "    \n",
    "    def shuffle(self):\n",
    "        random.shuffle(self._cards)\n",
    "        \n",
    "    def __repr__(self): # representation의 약자인것 같다\n",
    "        return f'FrenchDeck({\", \".join(map(str, self._cards))})'\n",
    "        \n",
    "deck = FrenchDeck()\n",
    "deck.shuffle()\n",
    "deck[0]\n",
    "\n",
    "for card in deck[:10]:\n",
    "    print(card)"
   ]
  },
  {
   "cell_type": "markdown",
   "metadata": {},
   "source": [
    "#### 3. 그 외 arithmetic 함수들 .__add__, __mul__ 등등이 있다."
   ]
  },
  {
   "cell_type": "markdown",
   "metadata": {},
   "source": [
    "근데 그래서 왜 len()은 method가 아니지?.?\n",
    "> *practicality beats purity* - a quote from The Zen of Python\n",
    "\n",
    "\n",
    "특수한 기능들은 특별 대우를 받는것 같다."
   ]
  },
  {
   "cell_type": "markdown",
   "metadata": {},
   "source": [
    "### tip. 특정 객체가 어떤 attribute들을 갖고 있는지 보고싶으면 **dir** 함수를 호출해보자"
   ]
  },
  {
   "cell_type": "code",
   "execution_count": 8,
   "metadata": {},
   "outputs": [
    {
     "name": "stdout",
     "output_type": "stream",
     "text": [
      "['__class__', '__delattr__', '__dict__', '__dir__', '__doc__', '__eq__', '__format__', '__ge__', '__getattribute__', '__getitem__', '__gt__', '__hash__', '__init__', '__init_subclass__', '__le__', '__len__', '__lt__', '__module__', '__ne__', '__new__', '__reduce__', '__reduce_ex__', '__repr__', '__setattr__', '__sizeof__', '__str__', '__subclasshook__', '__weakref__', 'ranks', 'shuffle', 'suits']\n",
      "['__add__', '__class__', '__contains__', '__delattr__', '__delitem__', '__dir__', '__doc__', '__eq__', '__format__', '__ge__', '__getattribute__', '__getitem__', '__gt__', '__hash__', '__iadd__', '__imul__', '__init__', '__init_subclass__', '__iter__', '__le__', '__len__', '__lt__', '__mul__', '__ne__', '__new__', '__reduce__', '__reduce_ex__', '__repr__', '__reversed__', '__rmul__', '__setattr__', '__setitem__', '__sizeof__', '__str__', '__subclasshook__', 'append', 'clear', 'copy', 'count', 'extend', 'index', 'insert', 'pop', 'remove', 'reverse', 'sort']\n"
     ]
    }
   ],
   "source": [
    "print(dir(FrenchDeck))\n",
    "print(dir(list))"
   ]
  },
  {
   "cell_type": "markdown",
   "metadata": {},
   "source": [
    "# 2. ListComps & Generators & DictComps"
   ]
  },
  {
   "cell_type": "markdown",
   "metadata": {},
   "source": [
    "#### 1. List Comprehension\n",
    "\n",
    "syntactic sugar 성능상으로는 filter나 map 함수랑 비슷한거로 알고 있음. (책에서는 더 빠르다고 언급됨)\n",
    "\n",
    "테스트의 여지가 있음...\n",
    "\n",
    "사용되는 용도에 따라서 코드가 떄로는 더 간결해 질 수도 있다..."
   ]
  },
  {
   "cell_type": "code",
   "execution_count": 9,
   "metadata": {},
   "outputs": [
    {
     "name": "stdout",
     "output_type": "stream",
     "text": [
      "[('black', 'S'), ('black', 'M'), ('black', 'L'), ('white', 'S'), ('white', 'M'), ('white', 'L')]\n",
      "('black', 'S')\n",
      "('black', 'M')\n",
      "('black', 'L')\n",
      "('white', 'S')\n",
      "('white', 'M')\n",
      "('white', 'L')\n"
     ]
    }
   ],
   "source": [
    "colors = ['black', 'white']\n",
    "sizes = ['S', 'M', 'L']\n",
    "tshirts = [(color, size) for color in colors for size in sizes]\n",
    "\n",
    "print(tshirts)\n",
    "\n",
    "for color in colors:\n",
    "    for size in sizes:\n",
    "        print((color, size))"
   ]
  },
  {
   "cell_type": "markdown",
   "metadata": {},
   "source": [
    "#### 2. Generators\n",
    "\n",
    "python generator는 객체를 하나하나씩 반환해서, 메모리를 아낄 수 있다\n",
    "\n",
    "generator expression과 list comprehension의 차이는 [] 와 () 의 차이\n",
    "\n",
    "generator는 ()"
   ]
  },
  {
   "cell_type": "code",
   "execution_count": 10,
   "metadata": {
    "scrolled": false
   },
   "outputs": [
    {
     "name": "stdout",
     "output_type": "stream",
     "text": [
      "black S\n",
      "black M\n",
      "black L\n",
      "white S\n",
      "white M\n",
      "white L\n"
     ]
    }
   ],
   "source": [
    "colors = ['black', 'white']\n",
    "sizes = ['S', 'M', 'L']\n",
    "for tshirt in ('%s %s' % (c, s) for c in colors for s in sizes):\n",
    "    print(tshirt)"
   ]
  },
  {
   "cell_type": "markdown",
   "metadata": {},
   "source": [
    "lazy generation of values를 통해\n",
    "\n",
    "메모리를 아끼고 필요한 시점에 데이터를 생성해낸다.\n",
    "\n",
    "https://wiki.python.org/moin/Generators"
   ]
  },
  {
   "cell_type": "code",
   "execution_count": 11,
   "metadata": {},
   "outputs": [
    {
     "name": "stdout",
     "output_type": "stream",
     "text": [
      "499999500000\n"
     ]
    }
   ],
   "source": [
    "# Using the generator pattern (an iterable)\n",
    "class firstn(object):\n",
    "    def __init__(self, n):\n",
    "        self.n = n\n",
    "        self.num = 0\n",
    "\n",
    "    def __iter__(self):\n",
    "        return self\n",
    "\n",
    "    # Python 3 compatibility\n",
    "    def __next__(self):\n",
    "        return self.next()\n",
    "\n",
    "    def next(self):\n",
    "        if self.num < self.n:\n",
    "            cur, self.num = self.num, self.num+1\n",
    "            return cur\n",
    "        else:\n",
    "            raise StopIteration()\n",
    "\n",
    "sum_of_first_n = sum(firstn(1000000))\n",
    "print(sum_of_first_n)"
   ]
  },
  {
   "cell_type": "code",
   "execution_count": 12,
   "metadata": {},
   "outputs": [
    {
     "name": "stdout",
     "output_type": "stream",
     "text": [
      "336\n",
      "41000104\n",
      "448\n",
      "40250160\n"
     ]
    }
   ],
   "source": [
    "from pympler.asizeof import asizeof\n",
    "print(asizeof(firstn(1000000)))\n",
    "print(asizeof(list(range(1000000))))\n",
    "print(asizeof((i for i in range(1000000))))\n",
    "print(asizeof(list(i for i in range(1000000))))"
   ]
  },
  {
   "cell_type": "markdown",
   "metadata": {},
   "source": [
    "**보이시나요 차이가?.?**"
   ]
  },
  {
   "cell_type": "markdown",
   "metadata": {},
   "source": [
    "### extra notes) **range vs. xrange vs. irange**\n",
    "\n",
    "https://stackoverflow.com/questions/22971078/how-is-irange-any-different-from-range-or-xrange\n",
    "\n",
    "irange는 generator expression"
   ]
  },
  {
   "cell_type": "markdown",
   "metadata": {},
   "source": [
    "#### 3. dict comprehension\n",
    "\n",
    "Dictionary를 쉽게 만들때 사용"
   ]
  },
  {
   "cell_type": "code",
   "execution_count": 13,
   "metadata": {
    "scrolled": true
   },
   "outputs": [
    {
     "data": {
      "text/plain": [
       "{1: 1, 2: 4, 3: 9, 4: 16, 5: 25, 6: 36, 7: 49, 8: 64, 9: 81, 10: 100}"
      ]
     },
     "execution_count": 13,
     "metadata": {},
     "output_type": "execute_result"
    }
   ],
   "source": [
    "squared_dict = {\n",
    "    i : i * i for i in range(1, 11)\n",
    "}\n",
    "squared_dict"
   ]
  },
  {
   "cell_type": "markdown",
   "metadata": {},
   "source": [
    "extra) set 만들기"
   ]
  },
  {
   "cell_type": "code",
   "execution_count": 14,
   "metadata": {},
   "outputs": [
    {
     "name": "stdout",
     "output_type": "stream",
     "text": [
      "<class 'set'>\n"
     ]
    },
    {
     "data": {
      "text/plain": [
       "{1, 3, 4, 6, 7, 8}"
      ]
     },
     "execution_count": 14,
     "metadata": {},
     "output_type": "execute_result"
    }
   ],
   "source": [
    "arr = [1, 1, 3, 4, 4, 6, 7, 8]\n",
    "repeated_set = {\n",
    "   x for x in arr\n",
    "}\n",
    "print(type(repeated_set))\n",
    "repeated_set"
   ]
  },
  {
   "cell_type": "code",
   "execution_count": 15,
   "metadata": {},
   "outputs": [
    {
     "name": "stdout",
     "output_type": "stream",
     "text": [
      "{3}\n",
      "{1, 2, 3, 4, 5}\n",
      "{1, 2}\n"
     ]
    }
   ],
   "source": [
    "# 집합 연산 예제 ~_~\n",
    "\n",
    "a = {1, 2, 3}\n",
    "b = {3, 4, 5}\n",
    "\n",
    "print(a & b)\n",
    "print(a | b)\n",
    "print(a - b)"
   ]
  },
  {
   "cell_type": "markdown",
   "metadata": {},
   "source": [
    "# 3. Python의 Immutable type들"
   ]
  },
  {
   "cell_type": "markdown",
   "metadata": {},
   "source": [
    " **int, float, decimal, bool, string, tuple, and range**\n",
    " \n",
    " mutable한 타입은\n",
    " \n",
    " **list, dictionary, set and user-defined classes**"
   ]
  },
  {
   "cell_type": "code",
   "execution_count": 16,
   "metadata": {},
   "outputs": [
    {
     "data": {
      "text/plain": [
       "1954370808390575460"
      ]
     },
     "execution_count": 16,
     "metadata": {},
     "output_type": "execute_result"
    }
   ],
   "source": [
    "hash(range(3, 5))\n",
    "hash(3)\n",
    "hash('asdf')"
   ]
  },
  {
   "cell_type": "markdown",
   "metadata": {},
   "source": [
    "왜 immutable 설명하다가 갑자기 hash?.?\n",
    "\n",
    "왜냐하면 이 둘은 굉장히 밀접한 관계를 갖고 있기 때문..."
   ]
  },
  {
   "attachments": {
    "image.png": {
     "image/png": "[encoded data removed]"
    }
   },
   "cell_type": "markdown",
   "metadata": {},
   "source": [
    "![image.png](attachment:image.png)"
   ]
  },
  {
   "attachments": {
    "image.png": {
     "image/png": "[encoded data removed]"
    }
   },
   "cell_type": "markdown",
   "metadata": {},
   "source": [
    "![image.png](attachment:image.png)"
   ]
  },
  {
   "cell_type": "markdown",
   "metadata": {},
   "source": [
    "https://docs.python.org/3/glossary.html 발췌\n",
    "\n",
    "보통의 경우 immutable 하다는 것은 hashable과 동일한 의미로 해석될 수 있다. (반대는 거짓)\n",
    "\n",
    "hashable하면 dictionary 키값으로 사용가능\n",
    "\n",
    "기본적으로 User-Defined Object는 hashable하다. id(사용)\n",
    "\n",
    "__hash__ 함수와 __eq__ 함수를 정의해서 User-Defined Object를 hashable 하게 직접 구현할 수 있다."
   ]
  },
  {
   "cell_type": "code",
   "execution_count": 17,
   "metadata": {},
   "outputs": [
    {
     "data": {
      "text/plain": [
       "2528502973977326415"
      ]
     },
     "execution_count": 17,
     "metadata": {},
     "output_type": "execute_result"
    }
   ],
   "source": [
    "a = (1, 2, 3)\n",
    "hash(a)\n",
    "b = [1, 2, 3]\n",
    "c = (1, 2, 3)\n",
    "hash(c)"
   ]
  },
  {
   "cell_type": "code",
   "execution_count": 18,
   "metadata": {},
   "outputs": [
    {
     "name": "stdout",
     "output_type": "stream",
     "text": [
      "FrenchDeck(Card(rank='4', suit='diamonds'), Card(rank='J', suit='spades'), Card(rank='2', suit='hearts'), Card(rank='8', suit='hearts'), Card(rank='6', suit='spades'), Card(rank='Q', suit='hearts'), Card(rank='J', suit='diamonds'), Card(rank='8', suit='clubs'), Card(rank='2', suit='clubs'), Card(rank='4', suit='spades'), Card(rank='K', suit='diamonds'), Card(rank='6', suit='hearts'), Card(rank='J', suit='clubs'), Card(rank='6', suit='clubs'), Card(rank='4', suit='hearts'), Card(rank='5', suit='hearts'), Card(rank='7', suit='clubs'), Card(rank='9', suit='spades'), Card(rank='5', suit='spades'), Card(rank='3', suit='clubs'), Card(rank='5', suit='diamonds'), Card(rank='10', suit='hearts'), Card(rank='10', suit='clubs'), Card(rank='10', suit='spades'), Card(rank='A', suit='hearts'), Card(rank='9', suit='clubs'), Card(rank='3', suit='diamonds'), Card(rank='A', suit='clubs'), Card(rank='J', suit='hearts'), Card(rank='7', suit='diamonds'), Card(rank='9', suit='diamonds'), Card(rank='K', suit='hearts'), Card(rank='Q', suit='diamonds'), Card(rank='9', suit='hearts'), Card(rank='7', suit='spades'), Card(rank='2', suit='diamonds'), Card(rank='3', suit='spades'), Card(rank='8', suit='diamonds'), Card(rank='10', suit='diamonds'), Card(rank='K', suit='clubs'), Card(rank='6', suit='diamonds'), Card(rank='A', suit='diamonds'), Card(rank='K', suit='spades'), Card(rank='A', suit='spades'), Card(rank='8', suit='spades'), Card(rank='4', suit='clubs'), Card(rank='Q', suit='spades'), Card(rank='7', suit='hearts'), Card(rank='Q', suit='clubs'), Card(rank='3', suit='hearts'), Card(rank='5', suit='clubs'), Card(rank='2', suit='spades'))\n"
     ]
    }
   ],
   "source": [
    "test_dict = {deck: 3}\n",
    "# 아까 위에서 정의한 객체가 dictionary key로 사용됨\n",
    "print(deck)"
   ]
  },
  {
   "cell_type": "markdown",
   "metadata": {},
   "source": [
    "extra) **id** 함수가 나온 김에 추가적인 설명\n",
    "\n",
    "일반적으로 Python == operator는 객체 내부의 값을 비교한다.\n",
    "\n",
    "내부적으로는 **\\_\\_eq\\_\\_** 함수를 통해서 구현"
   ]
  },
  {
   "cell_type": "code",
   "execution_count": 19,
   "metadata": {},
   "outputs": [
    {
     "name": "stdout",
     "output_type": "stream",
     "text": [
      "True\n",
      "True\n"
     ]
    }
   ],
   "source": [
    "a = [1, 2, 3]\n",
    "b = [1, 2, 3]\n",
    "print(a == b)\n",
    "\n",
    "a = (1, 2, 3)\n",
    "b = (1, 2, 3)\n",
    "print(a == b)"
   ]
  },
  {
   "cell_type": "code",
   "execution_count": 22,
   "metadata": {},
   "outputs": [
    {
     "name": "stdout",
     "output_type": "stream",
     "text": [
      "True\n",
      "False\n"
     ]
    }
   ],
   "source": [
    "import collections\n",
    "import random\n",
    "Card = collections.namedtuple('Card', ['rank', 'suit'])\n",
    "\n",
    "class EqualFrenchDeck:\n",
    "    ranks = [str(n) for n in range(2, 11)] + list('JQKA')\n",
    "    suits = 'spades diamonds clubs hearts'.split()\n",
    "    \n",
    "    def __init__(self):\n",
    "        self._cards = [Card(rank, suit) for suit in self.suits\n",
    "                       for rank in self.ranks]\n",
    "    def __len__(self):\n",
    "        return len(self._cards)\n",
    "    \n",
    "    def __getitem__(self, position):\n",
    "        return self._cards[position]\n",
    "    \n",
    "    def shuffle(self):\n",
    "        random.shuffle(self._cards)\n",
    "        \n",
    "    def __repr__(self): # representation의 약자인것 같다\n",
    "        return f'FrenchDeck({\", \".join(map(str, self._cards))})'\n",
    "    \n",
    "    def __hash__(self):\n",
    "        return id(self)\n",
    "    \n",
    "    def __eq__(self, other):\n",
    "        return tuple(self._cards) == tuple(other._cards)\n",
    "\n",
    "deckA = EqualFrenchDeck()\n",
    "deckB = EqualFrenchDeck()\n",
    "print(deckA == deckB)\n",
    "deckA.shuffle()\n",
    "\n",
    "print(deckA == deckB)"
   ]
  },
  {
   "cell_type": "markdown",
   "metadata": {},
   "source": [
    "객체 주소값을 비교하고 싶으면 **is** expression 사용"
   ]
  },
  {
   "cell_type": "code",
   "execution_count": 25,
   "metadata": {},
   "outputs": [
    {
     "name": "stdout",
     "output_type": "stream",
     "text": [
      "True\n",
      "False\n"
     ]
    }
   ],
   "source": [
    "deckA = EqualFrenchDeck()\n",
    "deckB = EqualFrenchDeck()\n",
    "print(deckA == deckB)\n",
    "print(deckA is deckB)"
   ]
  },
  {
   "cell_type": "markdown",
   "metadata": {},
   "source": [
    "#### 넘어가기 전에 dictionary 사용할때 주의할 점\n",
    "\n",
    "dictionary는 memory를 시간과 바꾼 use case\n",
    "\n",
    "변할 필요가 없는 객체를 나타내고 싶을 때는 tuple이나 named tuple를 사용하는게 나을수도 있다"
   ]
  },
  {
   "cell_type": "code",
   "execution_count": 40,
   "metadata": {},
   "outputs": [
    {
     "name": "stdout",
     "output_type": "stream",
     "text": [
      "176\n",
      "464\n",
      "sunku\n"
     ]
    }
   ],
   "source": [
    "import collections\n",
    "\n",
    "Person = collections.namedtuple('Person', 'name gender')\n",
    "\n",
    "sunku = Person('sunku', 'male')\n",
    "jaeho = Person('jaeho', 'male')\n",
    "\n",
    "print(asizeof(sunku))\n",
    "print(asizeof({'name': 'sunku', 'gender': 'male'}))\n",
    "print(sunku.name)"
   ]
  },
  {
   "cell_type": "code",
   "execution_count": 45,
   "metadata": {},
   "outputs": [
    {
     "name": "stdout",
     "output_type": "stream",
     "text": [
      "392\n"
     ]
    }
   ],
   "source": [
    "class UDPerson:\n",
    "    def __init__(self, name, gender):\n",
    "        self.name = name\n",
    "        self.gender = gender\n",
    "\n",
    "person = UDPerson('sunku', 'male')\n",
    "print(asizeof(person))"
   ]
  },
  {
   "cell_type": "markdown",
   "metadata": {},
   "source": [
    "핵심은 namedtuple 을 사용하는게 dictionary를 사용하는 것보다 메모리를 적게 사용한다. 그 이유는 다음 이야기에...\n",
    "\n",
    "일반적으로는 dictionary가 커질수록 둘의 차이는 커진다. "
   ]
  },
  {
   "attachments": {
    "image.png": {
     "image/png": "[encoded data removed]"
    }
   },
   "cell_type": "markdown",
   "metadata": {},
   "source": [
    "# 4. Python에서 Function\n",
    "\n",
    "Python에서 function 은 first-class objects라고 부른다.\n",
    "\n",
    "![image.png](attachment:image.png)"
   ]
  },
  {
   "cell_type": "markdown",
   "metadata": {},
   "source": [
    "#### first-class object 의 정의란:\n",
    "\n",
    " - runtime에 생성되거나\n",
    " - 변수에게 할당될 수 있거나\n",
    " - 함수의 인자로 넘길 수 있거나\n",
    " - 함수의 반환값으로\n",
    " \n",
    " \n",
    " 사용될 수 있는 entity\n",
    " \n",
    " Python 에서 함수는 객체라고 생각하는게 맞다."
   ]
  },
  {
   "cell_type": "code",
   "execution_count": null,
   "metadata": {},
   "outputs": [],
   "source": []
  }
 ],
 "metadata": {
  "kernelspec": {
   "display_name": "Python 3",
   "language": "python",
   "name": "python3"
  },
  "language_info": {
   "codemirror_mode": {
    "name": "ipython",
    "version": 3
   },
   "file_extension": ".py",
   "mimetype": "text/x-python",
   "name": "python",
   "nbconvert_exporter": "python",
   "pygments_lexer": "ipython3",
   "version": "3.7.6"
  }
 },
 "nbformat": 4,
 "nbformat_minor": 4
}
