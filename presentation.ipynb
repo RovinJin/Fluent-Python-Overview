{
 "cells": [
  {
   "cell_type": "markdown",
   "metadata": {},
   "source": [
    "이 노트는 Python 3.7로 작성됐습니다."
   ]
  },
  {
   "cell_type": "markdown",
   "metadata": {},
   "source": [
    "# What does *Pythonic* mean?.?"
   ]
  },
  {
   "cell_type": "markdown",
   "metadata": {},
   "source": [
    "Python 입문하신 분들은 누구나 해봤을 질문\n",
    "\n",
    "왜 collection.len()이 아니고 len(collection)이지?.?\n",
    "\n",
    "*Pythonic* 한거는 뭐지?.?"
   ]
  },
  {
   "cell_type": "code",
   "execution_count": 16,
   "metadata": {},
   "outputs": [
    {
     "data": {
      "text/plain": [
       "3"
      ]
     },
     "execution_count": 16,
     "metadata": {},
     "output_type": "execute_result"
    }
   ],
   "source": [
    "arr = [1, 2, 3]\n",
    "len(arr)"
   ]
  },
  {
   "cell_type": "markdown",
   "metadata": {},
   "source": [
    "다들 위 코드가 돌아간다는 것은 알지만, 왜 어떻게 돌아가는거지?.?\n",
    "\n",
    "\n",
    "**len**은 Python에서 취급하는 특수 함수\n",
    "\n",
    "구체적인 예시:"
   ]
  },
  {
   "cell_type": "code",
   "execution_count": 17,
   "metadata": {},
   "outputs": [
    {
     "name": "stdout",
     "output_type": "stream",
     "text": [
      "52\n"
     ]
    }
   ],
   "source": [
    "import collections\n",
    "Card = collections.namedtuple('Card', ['rank', 'suit'])\n",
    "\n",
    "class FrenchDeck:\n",
    "    ranks = [str(n) for n in range(2, 11)] + list('JQKA')\n",
    "    suits = 'spades diamonds clubs hearts'.split()\n",
    "    \n",
    "    def __init__(self):\n",
    "        self._cards = [Card(rank, suit) for suit in self.suits\n",
    "                       for rank in self.ranks]\n",
    "    def __len__(self):\n",
    "        return len(self._cards)\n",
    "    \n",
    "    def __getitem__(self, position):\n",
    "        return self._cards[position]\n",
    "    \n",
    "deck = FrenchDeck()\n",
    "print(len(deck))"
   ]
  },
  {
   "cell_type": "markdown",
   "metadata": {},
   "source": [
    "**len** 함수가 실행하는 것은 Python 내부의 \\_\\_len\\_\\_함수\n",
    "\n",
    "혹시 직접 만든 함수들도 비슷한 방식으로 호출할 수 있을까?.?"
   ]
  },
  {
   "cell_type": "code",
   "execution_count": 18,
   "metadata": {
    "scrolled": true
   },
   "outputs": [
    {
     "name": "stdout",
     "output_type": "stream",
     "text": [
      "4\n",
      "\n",
      "Traceback (most recent call last):\n",
      "  File \"<ipython-input-18-7aaf425ee2e8>\", line 16, in <module>\n",
      "    testtheory(test)# 과연 될까?.?\n",
      "NameError: name 'testtheory' is not defined\n",
      "\n"
     ]
    }
   ],
   "source": [
    "import traceback\n",
    "\n",
    "class TheoryTest:\n",
    "    def __init__(self):\n",
    "        self.items = [1, 2, 3, 4]\n",
    "        \n",
    "    def __len__(self):\n",
    "        return len(self.items)\n",
    "    \n",
    "    def __testtheory__(self):\n",
    "        print(\"Tested?.?\")\n",
    "    \n",
    "test = TheoryTest()\n",
    "print(len(test))\n",
    "try:\n",
    "    testtheory(test)# 과연 될까?.?\n",
    "except Exception as e:\n",
    "    tb = traceback.format_exc()# 오류 나지만 돌아가게 하기 위한 부분\n",
    "    print(\"\\n\" + tb)"
   ]
  },
  {
   "cell_type": "markdown",
   "metadata": {},
   "source": [
    "역시는 역시 안된다..\n",
    "\n",
    "하지만..?"
   ]
  },
  {
   "cell_type": "code",
   "execution_count": 19,
   "metadata": {},
   "outputs": [
    {
     "name": "stdout",
     "output_type": "stream",
     "text": [
      "Tested?.?\n"
     ]
    }
   ],
   "source": [
    "def testtheory(test):\n",
    "    test.__testtheory__()\n",
    "\n",
    "# 된다는 것을 보여주기 위한 예시일 뿐\n",
    "# 하지는 말자...\n",
    "testtheory(test)"
   ]
  },
  {
   "cell_type": "markdown",
   "metadata": {},
   "source": [
    "### 특수 함수 (Special Method)는 어떻게 사용되는가?.?\n",
    "\n",
    "Python interpreter에서 예약된 함수들을 활용해서, object model 내부적으로 구현된 함수를 실행하는것.\n",
    "\n",
    "기본 데이터형들에 대해서는 Python에서 조금 더 최적화된 방법으로 값을 뽑아내는 경우가 있기도 하고, 직접 호출하는것은 지양 하는것이 일반적이다.\n",
    "\n",
    "**결론**: 편하게 만들어준 것은 편하게 쓰자\n",
    "\n",
    "<br />\n",
    "\n",
    "Python 지지자들이 내세우는 주장 중 하나\n",
    "\n",
    "**Python의 가장 큰 장점중 하나는 일관성이다.**"
   ]
  },
  {
   "cell_type": "code",
   "execution_count": 20,
   "metadata": {},
   "outputs": [
    {
     "name": "stdout",
     "output_type": "stream",
     "text": [
      "5\n",
      "5\n"
     ]
    }
   ],
   "source": [
    "arr = [1, 2, 3, 4, 5]\n",
    "print(arr.__len__()) # 하지말고\n",
    "print(len(arr)) # 굿"
   ]
  },
  {
   "cell_type": "markdown",
   "metadata": {},
   "source": [
    "특수 함수들은 한정되어 있고, 편의를 위해서 만들어졌다는 것이 일반적인 시선이다. 그 동안 Python에서 *어떻게 구현된거지?.?* 했던 마법 같은 기능들은 배후에 특수 함수가 있을 가능성이 높다.\n",
    "\n",
    "일부 마법을 파헤치기 위해, 몇가지 예시를 짚고 넘어가 보자"
   ]
  },
  {
   "cell_type": "markdown",
   "metadata": {},
   "source": [
    "#### 1. repr 함수, str 함수\n",
    "\n",
    "```pythoh\n",
    ">>> a = Vector(3, 5)\n",
    ">>> print(a)\n",
    "Vector(3, 5)\n",
    "```\n",
    "\n",
    "이런식으로 프린트를 했을때 객체 형태로 보기에 이쁘게 나오는 것을 어딘가에서 본적 있을거다."
   ]
  },
  {
   "cell_type": "code",
   "execution_count": 31,
   "metadata": {},
   "outputs": [
    {
     "name": "stdout",
     "output_type": "stream",
     "text": [
      "Vector(3, 5)\n",
      "(x=3 y=5)\n"
     ]
    }
   ],
   "source": [
    "class Vector:\n",
    "    def __init__(self, x=0, y=0):\n",
    "        self.x = x\n",
    "        self.y = y\n",
    "        \n",
    "    def __repr__(self): # representation의 약자인것 같다\n",
    "        return 'Vector(%r, %r)' % (self.x, self.y)\n",
    "    \n",
    "    def __str__(self): # java의 toString과 비슷\n",
    "        return f\"(x={self.x} y={self.y})\"\n",
    "x = Vector(3, 5)\n",
    "print(repr(x))\n",
    "print(x)"
   ]
  },
  {
   "cell_type": "markdown",
   "metadata": {},
   "source": [
    "**repr** 특수 함수를 통해서 구현돼 있었던 거였다!.!\n",
    "\n",
    "repr 함수는 일번적으로 공식적인 객체를 나타내는 수단으로 사용된다 (보통 그 객체를 생성하기 위해 사용된 생성자문)\n",
    "\n",
    "디버깅 용도로 주로 사용\n",
    "\n",
    "**str** 함수는 실제 유저에게 보여줄 목적으로 생성하는 문자열 형태를 만들기 위해 구현\n"
   ]
  },
  {
   "cell_type": "markdown",
   "metadata": {},
   "source": [
    "#### 2. getitem 함수\n",
    "\n",
    "리스트형 객체에서 사용"
   ]
  },
  {
   "cell_type": "code",
   "execution_count": 68,
   "metadata": {},
   "outputs": [
    {
     "name": "stdout",
     "output_type": "stream",
     "text": [
      "Card(rank='9', suit='spades')\n",
      "Card(rank='J', suit='hearts')\n",
      "Card(rank='J', suit='spades')\n",
      "Card(rank='Q', suit='clubs')\n",
      "Card(rank='4', suit='hearts')\n",
      "Card(rank='3', suit='diamonds')\n",
      "Card(rank='7', suit='diamonds')\n",
      "Card(rank='5', suit='clubs')\n",
      "Card(rank='6', suit='diamonds')\n",
      "Card(rank='K', suit='clubs')\n"
     ]
    }
   ],
   "source": [
    "import collections\n",
    "import random\n",
    "Card = collections.namedtuple('Card', ['rank', 'suit'])\n",
    "\n",
    "class FrenchDeck:\n",
    "    ranks = [str(n) for n in range(2, 11)] + list('JQKA')\n",
    "    suits = 'spades diamonds clubs hearts'.split()\n",
    "    \n",
    "    def __init__(self):\n",
    "        self._cards = [Card(rank, suit) for suit in self.suits\n",
    "                       for rank in self.ranks]\n",
    "    def __len__(self):\n",
    "        return len(self._cards)\n",
    "    \n",
    "    def __getitem__(self, position):\n",
    "        return self._cards[position]\n",
    "    \n",
    "    def shuffle(self):\n",
    "        random.shuffle(self._cards)\n",
    "        \n",
    "deck = FrenchDeck()\n",
    "deck.shuffle()\n",
    "deck[0]\n",
    "\n",
    "for card in deck[:10]:\n",
    "    print(card)"
   ]
  },
  {
   "cell_type": "markdown",
   "metadata": {},
   "source": [
    "> ## *practicality beats purity*"
   ]
  },
  {
   "cell_type": "code",
   "execution_count": null,
   "metadata": {},
   "outputs": [],
   "source": []
  }
 ],
 "metadata": {
  "kernelspec": {
   "display_name": "Python 3",
   "language": "python",
   "name": "python3"
  },
  "language_info": {
   "codemirror_mode": {
    "name": "ipython",
    "version": 3
   },
   "file_extension": ".py",
   "mimetype": "text/x-python",
   "name": "python",
   "nbconvert_exporter": "python",
   "pygments_lexer": "ipython3",
   "version": "3.7.6"
  }
 },
 "nbformat": 4,
 "nbformat_minor": 4
}
